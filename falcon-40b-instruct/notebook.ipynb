{
 "cells": [
  {
   "cell_type": "code",
   "execution_count": 1,
   "id": "5fc278fb-9c08-4c8a-8135-1d988e7a0326",
   "metadata": {
    "tags": []
   },
   "outputs": [],
   "source": [
    "# ! pip install -r requirements.txt"
   ]
  },
  {
   "cell_type": "code",
   "execution_count": 2,
   "id": "5c301371-1aae-4a27-89ca-f114c15518ba",
   "metadata": {},
   "outputs": [
    {
     "name": "stderr",
     "output_type": "stream",
     "text": [
      "/home/admin_stoelinga_altostrat_com/miniconda3/lib/python3.10/site-packages/tqdm/auto.py:21: TqdmWarning: IProgress not found. Please update jupyter and ipywidgets. See https://ipywidgets.readthedocs.io/en/stable/user_install.html\n",
      "  from .autonotebook import tqdm as notebook_tqdm\n"
     ]
    }
   ],
   "source": [
    "from transformers import AutoTokenizer, AutoModelForCausalLM\n",
    "import torch"
   ]
  },
  {
   "cell_type": "code",
   "execution_count": 3,
   "id": "04c7382d-b4b7-40b9-a85c-d2f207a02923",
   "metadata": {},
   "outputs": [
    {
     "name": "stderr",
     "output_type": "stream",
     "text": [
      "Loading checkpoint shards: 100%|███████████████████████████████████████████████████████████████████████████████████████████████████████████████████████████████| 9/9 [04:04<00:00, 27.14s/it]\n"
     ]
    }
   ],
   "source": [
    "model_id = \"tiiuae/falcon-40b-instruct\"\n",
    "\n",
    "\n",
    "model = AutoModelForCausalLM.from_pretrained(\n",
    "            model_id, torch_dtype=torch.float16, device_map=\"auto\", trust_remote_code=True)"
   ]
  },
  {
   "cell_type": "code",
   "execution_count": 4,
   "id": "c8ebc8e4-f48a-421e-9c02-a0acb29ab439",
   "metadata": {
    "tags": []
   },
   "outputs": [],
   "source": [
    "tokenizer = AutoTokenizer.from_pretrained(model_id)"
   ]
  },
  {
   "cell_type": "code",
   "execution_count": 5,
   "id": "080533c6-cc39-4135-ab78-aed3fada8cc7",
   "metadata": {
    "tags": []
   },
   "outputs": [
    {
     "name": "stderr",
     "output_type": "stream",
     "text": [
      "/home/admin_stoelinga_altostrat_com/miniconda3/lib/python3.10/site-packages/transformers/generation/utils.py:1259: UserWarning: You have modified the pretrained model configuration to control generation. This is a deprecated strategy to control generation and will be removed soon, in a future version. Please use a generation configuration file (see https://huggingface.co/docs/transformers/main_classes/text_generation)\n",
      "  warnings.warn(\n",
      "Setting `pad_token_id` to `eos_token_id`:11 for open-end generation.\n"
     ]
    },
    {
     "name": "stdout",
     "output_type": "stream",
     "text": [
      "Write a YAML file to deploy a docker registry on K8s\n",
      "Here is an example YAML file to deploy a Docker registry on Kubernetes:\n",
      "\n",
      "```\n",
      "apiVersion: apps/v1\n",
      "kind: Deployment\n",
      "metadata:\n",
      "  name: registry\n",
      "spec:\n",
      "  selector:\n",
      "    matchLabels:\n",
      "      app: registry\n",
      "  template:\n",
      "    metadata:\n",
      "      labels:\n",
      "        app: registry\n",
      "    spec:\n",
      "      containers:\n",
      "      - name: registry\n",
      "        image: registry:2\n",
      "        ports:\n",
      "        - name: registry\n",
      "          containerPort: 5000\n",
      "          protocol: TCP\n",
      "        volumeMounts:\n",
      "        - name: registry-data\n",
      "          mountPath: /var/lib/registry\n",
      "      volumes:\n",
      "      - name: registry-data\n",
      "        persistentVolumeClaim:\n",
      "          claimName: registry-data\n",
      "```\n",
      "\n",
      "This YAML file creates a Kubernetes deployment for a Docker registry. The deployment uses the registry:2 image from Docker Hub, which is a pre-built image that includes the Docker registry. The deployment also creates a volume for the registry data, which is mounted to the /var/lib/registry directory inside the container.\n",
      "CPU times: user 1min 48s, sys: 1.04 s, total: 1min 49s\n",
      "Wall time: 2min 1s\n"
     ]
    }
   ],
   "source": [
    "%%time\n",
    "\n",
    "text = \"Write a YAML file to deploy a docker registry on K8s\"\n",
    "device = \"cuda:0\"\n",
    "\n",
    "inputs = tokenizer(text, return_tensors=\"pt\").to(device)\n",
    "inputs.pop(\"token_type_ids\")\n",
    "outputs = model.generate(**inputs, max_new_tokens=300)\n",
    "print(tokenizer.decode(outputs[0], skip_special_tokens=True))"
   ]
  },
  {
   "cell_type": "code",
   "execution_count": 10,
   "id": "28a3988a-99ca-4983-877d-3ef49e7412c9",
   "metadata": {
    "tags": []
   },
   "outputs": [
    {
     "name": "stderr",
     "output_type": "stream",
     "text": [
      "Setting `pad_token_id` to `eos_token_id`:11 for open-end generation.\n"
     ]
    },
    {
     "name": "stdout",
     "output_type": "stream",
     "text": [
      "### Instruction \n",
      "\n",
      "How to create a K8s pod? \n",
      "\n",
      " ### Response \n",
      "\n",
      " To create a Kubernetes pod, you can use the following command:\n",
      "\n",
      "```\n",
      "kubectl run <pod-name> --image=<image-name> --port=<port> --labels=<label-name>=<label-value>\n",
      "```\n",
      "\n",
      "CPU times: user 25.2 s, sys: 3.55 ms, total: 25.2 s\n",
      "Wall time: 25.2 s\n"
     ]
    }
   ],
   "source": [
    "%%time\n",
    "\n",
    "text = \"### Instruction \\n\\nHow to create a K8s pod? \\n\\n ### Response \\n\\n\"\n",
    "device = \"cuda:0\"\n",
    "\n",
    "inputs = tokenizer(text, return_tensors=\"pt\").to(device)\n",
    "inputs.pop(\"token_type_ids\")\n",
    "outputs = model.generate(**inputs, max_new_tokens=60)\n",
    "print(tokenizer.decode(outputs[0], skip_special_tokens=True))"
   ]
  },
  {
   "cell_type": "code",
   "execution_count": null,
   "id": "d23f630d-8046-47bc-8b24-f84f6d27a137",
   "metadata": {},
   "outputs": [],
   "source": []
  }
 ],
 "metadata": {
  "kernelspec": {
   "display_name": "Python 3 (ipykernel)",
   "language": "python",
   "name": "python3"
  },
  "language_info": {
   "codemirror_mode": {
    "name": "ipython",
    "version": 3
   },
   "file_extension": ".py",
   "mimetype": "text/x-python",
   "name": "python",
   "nbconvert_exporter": "python",
   "pygments_lexer": "ipython3",
   "version": "3.10.10"
  }
 },
 "nbformat": 4,
 "nbformat_minor": 5
}
