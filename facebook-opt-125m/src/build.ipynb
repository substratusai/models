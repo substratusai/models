{
 "cells": [
  {
   "cell_type": "markdown",
   "id": "ead0b7e2",
   "metadata": {},
   "source": [
    "Download huggingface transformers and load and save the model and tokenizer to disk for later inference and finetuning."
   ]
  },
  {
   "cell_type": "code",
   "execution_count": null,
   "id": "3397f847",
   "metadata": {},
   "outputs": [],
   "source": [
    "import torch\n",
    "from transformers import AutoModelForCausalLM, AutoTokenizer"
   ]
  },
  {
   "cell_type": "code",
   "execution_count": null,
   "id": "33c8a1ed",
   "metadata": {},
   "outputs": [],
   "source": [
    "model_id = \"facebook/opt-125m\""
   ]
  },
  {
   "cell_type": "code",
   "execution_count": null,
   "id": "ce5e89c4",
   "metadata": {},
   "outputs": [],
   "source": [
    "model = AutoModelForCausalLM.from_pretrained(model_id)\n",
    "tokenizer = AutoTokenizer.from_pretrained(model_id)"
   ]
  },
  {
   "cell_type": "code",
   "execution_count": null,
   "id": "0a00f1a7",
   "metadata": {
    "lines_to_next_cell": 2
   },
   "outputs": [],
   "source": [
    "torch.save(model, '/model/saved/model.pt')\n",
    "torch.save(tokenizer, '/model/saved/tokenizer.pt')"
   ]
  }
 ],
 "metadata": {
  "jupytext": {
   "cell_metadata_filter": "-all",
   "main_language": "python",
   "notebook_metadata_filter": "-all"
  },
  "kernelspec": {
   "display_name": "Python 3 (ipykernel)",
   "language": "python",
   "name": "python3"
  },
  "language_info": {
   "codemirror_mode": {
    "name": "ipython",
    "version": 3
   },
   "file_extension": ".py",
   "mimetype": "text/x-python",
   "name": "python",
   "nbconvert_exporter": "python",
   "pygments_lexer": "ipython3",
   "version": "3.10.12"
  }
 },
 "nbformat": 4,
 "nbformat_minor": 5
}
