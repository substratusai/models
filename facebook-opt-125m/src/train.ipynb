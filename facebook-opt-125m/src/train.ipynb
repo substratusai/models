{
 "cells": [
  {
   "cell_type": "code",
   "execution_count": 1,
   "id": "94897417",
   "metadata": {
    "execution": {
     "iopub.execute_input": "2023-06-16T14:15:10.763361Z",
     "iopub.status.busy": "2023-06-16T14:15:10.762694Z",
     "iopub.status.idle": "2023-06-16T14:15:12.638253Z",
     "shell.execute_reply": "2023-06-16T14:15:12.636936Z"
    }
   },
   "outputs": [],
   "source": [
    "from PromptData import PromptData\n",
    "from torch.optim import Adam\n",
    "from torch.utils.data import DataLoader\n",
    "import tqdm\n",
    "import torch\n",
    "from infer import Inferer\n",
    "\n",
    "import os"
   ]
  },
  {
   "cell_type": "code",
   "execution_count": 2,
   "id": "14752812",
   "metadata": {
    "execution": {
     "iopub.execute_input": "2023-06-16T14:15:12.646770Z",
     "iopub.status.busy": "2023-06-16T14:15:12.645791Z",
     "iopub.status.idle": "2023-06-16T14:15:13.906823Z",
     "shell.execute_reply": "2023-06-16T14:15:13.904852Z"
    }
   },
   "outputs": [],
   "source": [
    "data_path = os.environ['DATA_PATH']\n",
    "\n",
    "tokenizer = torch.load('../saved/tokenizer.pt')\n",
    "model = torch.load('../saved/model.pt')\n",
    "\n",
    "ds = PromptData(data_path, tokenizer)\n",
    "# TODO: Grab batch sizefrom configuration.\n",
    "dl = DataLoader(ds, batch_size=1)\n",
    "\n",
    "# TODO: Grab from configuration.\n",
    "epochs = 3\n",
    "\n",
    "device = \"cuda\" if torch.cuda.is_available() else \"mps\" if torch.backends.mps.is_available() else \"cpu\""
   ]
  },
  {
   "cell_type": "code",
   "execution_count": 3,
   "id": "981d82cf",
   "metadata": {
    "execution": {
     "iopub.execute_input": "2023-06-16T14:15:13.914025Z",
     "iopub.status.busy": "2023-06-16T14:15:13.913259Z",
     "iopub.status.idle": "2023-06-16T14:15:29.460828Z",
     "shell.execute_reply": "2023-06-16T14:15:29.457411Z"
    }
   },
   "outputs": [
    {
     "name": "stdout",
     "output_type": "stream",
     "text": [
      "training .... \n"
     ]
    },
    {
     "name": "stderr",
     "output_type": "stream",
     "text": [
      "100%|██████████| 3/3 [00:15<00:00,  5.17s/it]\n"
     ]
    }
   ],
   "source": [
    "def train(dat, model, optim):\n",
    "    for i in tqdm.tqdm(range(epochs)):\n",
    "        for X, a in dat:\n",
    "            X = X.to(device)\n",
    "            a = a.to(device)\n",
    "            optim.zero_grad()\n",
    "            loss = model(X, attention_mask=a, labels=X).loss\n",
    "            loss.backward()\n",
    "            optim.step()\n",
    "        #torch.save(model.state_dict(), \"model_state.pt\")\n",
    "\n",
    "print(\"training .... \")\n",
    "model.train()\n",
    "optim = Adam(model.parameters(), lr=1e-3)\n",
    "train(dl, model, optim)"
   ]
  },
  {
   "cell_type": "code",
   "execution_count": 4,
   "id": "d48b226b",
   "metadata": {
    "execution": {
     "iopub.execute_input": "2023-06-16T14:15:29.480182Z",
     "iopub.status.busy": "2023-06-16T14:15:29.478279Z",
     "iopub.status.idle": "2023-06-16T14:15:34.938987Z",
     "shell.execute_reply": "2023-06-16T14:15:34.935802Z"
    }
   },
   "outputs": [],
   "source": [
    "torch.save(model, '../trained/model.pt')"
   ]
  },
  {
   "cell_type": "code",
   "execution_count": 5,
   "id": "1c020c23",
   "metadata": {
    "execution": {
     "iopub.execute_input": "2023-06-16T14:15:34.950328Z",
     "iopub.status.busy": "2023-06-16T14:15:34.949554Z",
     "iopub.status.idle": "2023-06-16T14:15:35.598017Z",
     "shell.execute_reply": "2023-06-16T14:15:35.595591Z"
    }
   },
   "outputs": [
    {
     "name": "stdout",
     "output_type": "stream",
     "text": [
      "</s>What is your favorite color? is is is is is is is is is is\n"
     ]
    }
   ],
   "source": [
    "print(Inferer(model, tokenizer, device).infer(\"What is your favorite color?\", 10))"
   ]
  }
 ],
 "metadata": {
  "kernelspec": {
   "display_name": "Python 3 (ipykernel)",
   "language": "python",
   "name": "python3"
  },
  "language_info": {
   "codemirror_mode": {
    "name": "ipython",
    "version": 3
   },
   "file_extension": ".py",
   "mimetype": "text/x-python",
   "name": "python",
   "nbconvert_exporter": "python",
   "pygments_lexer": "ipython3",
   "version": "3.10.12"
  }
 },
 "nbformat": 4,
 "nbformat_minor": 5
}
