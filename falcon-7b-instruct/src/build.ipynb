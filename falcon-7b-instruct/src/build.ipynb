{
 "cells": [
  {
   "cell_type": "code",
   "execution_count": 1,
   "id": "dfe44836-9ed7-4e33-8905-a096b79910e1",
   "metadata": {},
   "outputs": [
    {
     "data": {
      "application/vnd.jupyter.widget-view+json": {
       "model_id": "c518c20c56c94cfbb7409d0310787c7f",
       "version_major": 2,
       "version_minor": 0
      },
      "text/plain": [
       "Fetching 15 files:   0%|          | 0/15 [00:00<?, ?it/s]"
      ]
     },
     "metadata": {},
     "output_type": "display_data"
    },
    {
     "data": {
      "application/vnd.jupyter.widget-view+json": {
       "model_id": "4e86909535bb4e6a850c81dfa3a8a681",
       "version_major": 2,
       "version_minor": 0
      },
      "text/plain": [
       "Downloading (…)911a0/.gitattributes:   0%|          | 0.00/1.48k [00:00<?, ?B/s]"
      ]
     },
     "metadata": {},
     "output_type": "display_data"
    },
    {
     "data": {
      "application/vnd.jupyter.widget-view+json": {
       "model_id": "a9a2a6239f6a400cbe336ea93bdd644c",
       "version_major": 2,
       "version_minor": 0
      },
      "text/plain": [
       "Downloading (…)/configuration_RW.py:   0%|          | 0.00/2.61k [00:00<?, ?B/s]"
      ]
     },
     "metadata": {},
     "output_type": "display_data"
    },
    {
     "data": {
      "application/vnd.jupyter.widget-view+json": {
       "model_id": "1a9318a404cb4b429e1dcb3d8ef04143",
       "version_major": 2,
       "version_minor": 0
      },
      "text/plain": [
       "Downloading (…)ackage/Manifest.json:   0%|          | 0.00/617 [00:00<?, ?B/s]"
      ]
     },
     "metadata": {},
     "output_type": "display_data"
    },
    {
     "data": {
      "application/vnd.jupyter.widget-view+json": {
       "model_id": "26213bb381fb44a3b851487d752f5c78",
       "version_major": 2,
       "version_minor": 0
      },
      "text/plain": [
       "Downloading (…)neration_config.json:   0%|          | 0.00/111 [00:00<?, ?B/s]"
      ]
     },
     "metadata": {},
     "output_type": "display_data"
    },
    {
     "data": {
      "application/vnd.jupyter.widget-view+json": {
       "model_id": "2a8093fed1bb40afb95bee2194a62131",
       "version_major": 2,
       "version_minor": 0
      },
      "text/plain": [
       "Downloading (…)47a7911a0/handler.py:   0%|          | 0.00/1.15k [00:00<?, ?B/s]"
      ]
     },
     "metadata": {},
     "output_type": "display_data"
    },
    {
     "data": {
      "application/vnd.jupyter.widget-view+json": {
       "model_id": "162d7121e0f94f7aa25dff26a5dfb9b6",
       "version_major": 2,
       "version_minor": 0
      },
      "text/plain": [
       "Downloading (…)347a7911a0/README.md:   0%|          | 0.00/9.12k [00:00<?, ?B/s]"
      ]
     },
     "metadata": {},
     "output_type": "display_data"
    },
    {
     "data": {
      "application/vnd.jupyter.widget-view+json": {
       "model_id": "0191cc14225945119bee018c3fa5c3c7",
       "version_major": 2,
       "version_minor": 0
      },
      "text/plain": [
       "Downloading (…)7a7911a0/config.json:   0%|          | 0.00/667 [00:00<?, ?B/s]"
      ]
     },
     "metadata": {},
     "output_type": "display_data"
    },
    {
     "data": {
      "application/vnd.jupyter.widget-view+json": {
       "model_id": "21cca62a247841179d2c3d7030d139bc",
       "version_major": 2,
       "version_minor": 0
      },
      "text/plain": [
       "Downloading (…)11a0/modelling_RW.py:   0%|          | 0.00/47.5k [00:00<?, ?B/s]"
      ]
     },
     "metadata": {},
     "output_type": "display_data"
    },
    {
     "data": {
      "application/vnd.jupyter.widget-view+json": {
       "model_id": "67ef6dcdd96b42f7ab7d32001a150740",
       "version_major": 2,
       "version_minor": 0
      },
      "text/plain": [
       "Downloading (…)cial_tokens_map.json:   0%|          | 0.00/281 [00:00<?, ?B/s]"
      ]
     },
     "metadata": {},
     "output_type": "display_data"
    },
    {
     "data": {
      "application/vnd.jupyter.widget-view+json": {
       "model_id": "ddc577d815144fa0a13b0bab73837555",
       "version_major": 2,
       "version_minor": 0
      },
      "text/plain": [
       "Downloading (…)model.bin.index.json:   0%|          | 0.00/16.9k [00:00<?, ?B/s]"
      ]
     },
     "metadata": {},
     "output_type": "display_data"
    },
    {
     "data": {
      "application/vnd.jupyter.widget-view+json": {
       "model_id": "f49247a276434f50a448dfb9dca3a515",
       "version_major": 2,
       "version_minor": 0
      },
      "text/plain": [
       "Downloading (…)okenizer_config.json:   0%|          | 0.00/220 [00:00<?, ?B/s]"
      ]
     },
     "metadata": {},
     "output_type": "display_data"
    },
    {
     "data": {
      "application/vnd.jupyter.widget-view+json": {
       "model_id": "57946782fbc0403db3203bc5469c4e25",
       "version_major": 2,
       "version_minor": 0
      },
      "text/plain": [
       "Downloading model.mlmodel:   0%|          | 0.00/397k [00:00<?, ?B/s]"
      ]
     },
     "metadata": {},
     "output_type": "display_data"
    },
    {
     "data": {
      "application/vnd.jupyter.widget-view+json": {
       "model_id": "26e8344090ed45e7b7ab7c20eb84490c",
       "version_major": 2,
       "version_minor": 0
      },
      "text/plain": [
       "Downloading (…)911a0/tokenizer.json:   0%|          | 0.00/2.73M [00:00<?, ?B/s]"
      ]
     },
     "metadata": {},
     "output_type": "display_data"
    },
    {
     "data": {
      "application/vnd.jupyter.widget-view+json": {
       "model_id": "3735747056a44ee3898ccca0980737c4",
       "version_major": 2,
       "version_minor": 0
      },
      "text/plain": [
       "Downloading (…)l-00002-of-00002.bin:   0%|          | 0.00/4.48G [00:00<?, ?B/s]"
      ]
     },
     "metadata": {},
     "output_type": "display_data"
    },
    {
     "data": {
      "application/vnd.jupyter.widget-view+json": {
       "model_id": "461ef0df262d4b9f81b3697ab6851415",
       "version_major": 2,
       "version_minor": 0
      },
      "text/plain": [
       "Downloading (…)l-00001-of-00002.bin:   0%|          | 0.00/9.95G [00:00<?, ?B/s]"
      ]
     },
     "metadata": {},
     "output_type": "display_data"
    },
    {
     "data": {
      "text/plain": [
       "'/model/saved'"
      ]
     },
     "execution_count": 1,
     "metadata": {},
     "output_type": "execute_result"
    }
   ],
   "source": [
    "from huggingface_hub import snapshot_download\n",
    "\n",
    "model_id = \"tiiuae/falcon-7b-instruct\"\n",
    "\n",
    "snapshot_download(repo_id=model_id, local_dir=\"/model/saved\", local_dir_use_symlinks=False,\n",
    "        ignore_patterns=\"*weight.bin\")"
   ]
  },
  {
   "cell_type": "code",
   "execution_count": 2,
   "id": "89545c70-8e54-4265-aab7-e42e5fb606d6",
   "metadata": {},
   "outputs": [
    {
     "name": "stdout",
     "output_type": "stream",
     "text": [
      "total 14G\n",
      "4.0K drwx------ 3 root root 4.0K Jun 19 02:32 .\n",
      "8.0K drwxr-xr-x 1 root root 4.0K Jun 19 02:32 ..\n",
      "4.0K -rw-r--r-- 1 root root 1.5K Jun 19 02:28 .gitattributes\n",
      " 12K -rw-r--r-- 1 root root 9.0K Jun 19 02:28 README.md\n",
      "4.0K -rw-r--r-- 1 root root  667 Jun 19 02:28 config.json\n",
      "4.0K -rw-r--r-- 1 root root 2.6K Jun 19 02:28 configuration_RW.py\n",
      "4.0K drwxr-xr-x 3 root root 4.0K Jun 19 01:14 coreml\n",
      "4.0K -rw-r--r-- 1 root root  111 Jun 19 02:28 generation_config.json\n",
      "4.0K -rw-r--r-- 1 root root 1.2K Jun 19 02:28 handler.py\n",
      " 48K -rw-r--r-- 1 root root  47K Jun 19 02:28 modelling_RW.py\n",
      "9.3G -rw-r--r-- 1 root root 9.3G Jun 19 02:32 pytorch_model-00001-of-00002.bin\n",
      "4.2G -rw-r--r-- 1 root root 4.2G Jun 19 02:29 pytorch_model-00002-of-00002.bin\n",
      " 20K -rw-r--r-- 1 root root  17K Jun 19 02:28 pytorch_model.bin.index.json\n",
      "4.0K -rw-r--r-- 1 root root  281 Jun 19 02:28 special_tokens_map.json\n",
      "2.7M -rw-r--r-- 1 root root 2.7M Jun 19 02:28 tokenizer.json\n",
      "4.0K -rw-r--r-- 1 root root  220 Jun 19 02:28 tokenizer_config.json\n"
     ]
    }
   ],
   "source": [
    "! ls -lash /model/saved"
   ]
  }
 ],
 "metadata": {
  "kernelspec": {
   "display_name": "Python 3 (ipykernel)",
   "language": "python",
   "name": "python3"
  },
  "language_info": {
   "codemirror_mode": {
    "name": "ipython",
    "version": 3
   },
   "file_extension": ".py",
   "mimetype": "text/x-python",
   "name": "python",
   "nbconvert_exporter": "python",
   "pygments_lexer": "ipython3",
   "version": "3.10.6"
  }
 },
 "nbformat": 4,
 "nbformat_minor": 5
}
